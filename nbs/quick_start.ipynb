{
 "cells": [
  {
   "cell_type": "code",
   "execution_count": null,
   "id": "invisible-discovery",
   "metadata": {},
   "outputs": [],
   "source": [
    "#all_slow"
   ]
  },
  {
   "cell_type": "code",
   "execution_count": null,
   "id": "three-donna",
   "metadata": {},
   "outputs": [],
   "source": [
    "#hide\n",
    "from sensorai import *"
   ]
  },
  {
   "cell_type": "markdown",
   "id": "latter-airplane",
   "metadata": {},
   "source": [
    "# waveai applications - quick tutorial"
   ]
  },
  {
   "cell_type": "markdown",
   "id": "motivated-republic",
   "metadata": {},
   "source": [
    "waveai applications use the same basic skeleton of steps and code:\n",
    "- Create approprite data pipeline using `tf.data` APIs\n",
    "- Create a `Learner`\n",
    "- Call a fit method\n",
    "- Make prediction\n",
    "- Explain the result (optional)"
   ]
  },
  {
   "cell_type": "code",
   "execution_count": null,
   "id": "pretty-northwest",
   "metadata": {},
   "outputs": [],
   "source": []
  }
 ],
 "metadata": {
  "kernelspec": {
   "display_name": "Python 3",
   "language": "python",
   "name": "python3"
  }
 },
 "nbformat": 4,
 "nbformat_minor": 5
}
