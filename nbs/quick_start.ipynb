{
 "cells": [
  {
   "cell_type": "code",
   "execution_count": null,
   "id": "handled-gazette",
   "metadata": {},
   "outputs": [],
   "source": [
    "#all_slow"
   ]
  },
  {
   "cell_type": "code",
   "execution_count": null,
   "id": "brazilian-courage",
   "metadata": {},
   "outputs": [],
   "source": [
    "#hide\n",
    "#from sensorai import *"
   ]
  },
  {
   "cell_type": "markdown",
   "id": "dense-celebration",
   "metadata": {},
   "source": [
    "# waveai applications - quick tutorial"
   ]
  },
  {
   "cell_type": "markdown",
   "id": "animated-surrey",
   "metadata": {},
   "source": [
    "waveai applications use the same basic skeleton of steps and code:\n",
    "- Create approprite data pipeline using `tf.data` APIs\n",
    "- Create a `Learner`\n",
    "- Call a fit method\n",
    "- Make prediction\n",
    "- Explain the result (optional)"
   ]
  },
  {
   "cell_type": "code",
   "execution_count": null,
   "id": "functioning-terminology",
   "metadata": {},
   "outputs": [],
   "source": []
  }
 ],
 "metadata": {
  "kernelspec": {
   "display_name": "Python 3",
   "language": "python",
   "name": "python3"
  }
 },
 "nbformat": 4,
 "nbformat_minor": 5
}
