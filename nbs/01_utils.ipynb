{
 "cells": [
  {
   "cell_type": "code",
   "execution_count": null,
   "id": "delayed-niger",
   "metadata": {},
   "outputs": [],
   "source": [
    "# default_exp utils"
   ]
  },
  {
   "cell_type": "code",
   "execution_count": null,
   "id": "declared-forest",
   "metadata": {},
   "outputs": [],
   "source": [
    "#export\n",
    "from sensorai.imports import *\n",
    "from sensorai.tf_imports import *"
   ]
  },
  {
   "cell_type": "code",
   "execution_count": null,
   "id": "invalid-borough",
   "metadata": {},
   "outputs": [],
   "source": [
    "#hide\n",
    "from nbdev.showdoc import *"
   ]
  },
  {
   "cell_type": "markdown",
   "id": "centered-language",
   "metadata": {},
   "source": [
    "# Utility Belts\n",
    "> Contain some common helper functions"
   ]
  },
  {
   "cell_type": "markdown",
   "id": "coordinate-player",
   "metadata": {},
   "source": [
    "## 1% Better Everyday"
   ]
  },
  {
   "cell_type": "markdown",
   "id": "invalid-sacramento",
   "metadata": {},
   "source": [
    "# Math "
   ]
  },
  {
   "cell_type": "code",
   "execution_count": null,
   "id": "phantom-jungle",
   "metadata": {},
   "outputs": [],
   "source": [
    "#export\n",
    "def moving_average(x, window=5):\n",
    "    \"\"\"\n",
    "    Return a moving-window average.\n",
    "    :param x: a numpy array\n",
    "    :param window: an integer, number of data points for window size.\n",
    "    \"\"\"\n",
    "    return (pd.DataFrame(x)\n",
    "                .rolling(window=window, min_periods=1)\n",
    "                .mean()\n",
    "                .values\n",
    "                .squeeze())"
   ]
  },
  {
   "cell_type": "code",
   "execution_count": null,
   "id": "emotional-anime",
   "metadata": {},
   "outputs": [],
   "source": [
    "x = np.arange(10)\n",
    "test_eq(moving_average(x), [0.,0.5,1.,1.5,2.,3.,4.,5.,6.,7.])\n",
    "test_eq(moving_average(x,4), [0.,0.5,1.,1.5,2.5,3.5,4.5,5.5,6.5,7.5])"
   ]
  },
  {
   "cell_type": "markdown",
   "id": "acoustic-newspaper",
   "metadata": {},
   "source": [
    "## PCA\n",
    "\n",
    "Principal Component Analysis (PCA) is mainly to intuitively understand what is going on with the data. It is mainly used in visualizing and analyzing the data.\n",
    "\n",
    "In our case we have 13 dimensional latent factors to understand a wine. Which is hard for us humans to get proper picture of. So, what we do is we merge this 13 dimensions down to 3 and plot them on graph to classify which movies belongs to which dimension and get proper look at each of them. That way, its much easier for us to understand the latent factors that was collected.\n",
    "\n",
    "So, in other words, PCA extracts out or lets us give out major factors which is influential to the data from many factors or dimensions in our case. Out of 13 components, we boil down to 3 major principal components to analyze our data."
   ]
  },
  {
   "cell_type": "code",
   "execution_count": null,
   "id": "crazy-effects",
   "metadata": {},
   "outputs": [],
   "source": [
    "URL = 'http://archive.ics.uci.edu/ml/machine-learning-databases/wine/wine.data'\n",
    "df = pd.read_csv(URL, header=None)"
   ]
  },
  {
   "cell_type": "code",
   "execution_count": null,
   "id": "vocational-sally",
   "metadata": {},
   "outputs": [
    {
     "data": {
      "text/html": [
       "<div>\n",
       "<style scoped>\n",
       "    .dataframe tbody tr th:only-of-type {\n",
       "        vertical-align: middle;\n",
       "    }\n",
       "\n",
       "    .dataframe tbody tr th {\n",
       "        vertical-align: top;\n",
       "    }\n",
       "\n",
       "    .dataframe thead th {\n",
       "        text-align: right;\n",
       "    }\n",
       "</style>\n",
       "<table border=\"1\" class=\"dataframe\">\n",
       "  <thead>\n",
       "    <tr style=\"text-align: right;\">\n",
       "      <th></th>\n",
       "      <th>0</th>\n",
       "      <th>1</th>\n",
       "      <th>2</th>\n",
       "      <th>3</th>\n",
       "      <th>4</th>\n",
       "      <th>5</th>\n",
       "      <th>6</th>\n",
       "      <th>7</th>\n",
       "      <th>8</th>\n",
       "      <th>9</th>\n",
       "      <th>10</th>\n",
       "      <th>11</th>\n",
       "      <th>12</th>\n",
       "      <th>13</th>\n",
       "    </tr>\n",
       "  </thead>\n",
       "  <tbody>\n",
       "    <tr>\n",
       "      <th>0</th>\n",
       "      <td>1</td>\n",
       "      <td>14.23</td>\n",
       "      <td>1.71</td>\n",
       "      <td>2.43</td>\n",
       "      <td>15.6</td>\n",
       "      <td>127</td>\n",
       "      <td>2.80</td>\n",
       "      <td>3.06</td>\n",
       "      <td>0.28</td>\n",
       "      <td>2.29</td>\n",
       "      <td>5.64</td>\n",
       "      <td>1.04</td>\n",
       "      <td>3.92</td>\n",
       "      <td>1065</td>\n",
       "    </tr>\n",
       "    <tr>\n",
       "      <th>1</th>\n",
       "      <td>1</td>\n",
       "      <td>13.20</td>\n",
       "      <td>1.78</td>\n",
       "      <td>2.14</td>\n",
       "      <td>11.2</td>\n",
       "      <td>100</td>\n",
       "      <td>2.65</td>\n",
       "      <td>2.76</td>\n",
       "      <td>0.26</td>\n",
       "      <td>1.28</td>\n",
       "      <td>4.38</td>\n",
       "      <td>1.05</td>\n",
       "      <td>3.40</td>\n",
       "      <td>1050</td>\n",
       "    </tr>\n",
       "    <tr>\n",
       "      <th>2</th>\n",
       "      <td>1</td>\n",
       "      <td>13.16</td>\n",
       "      <td>2.36</td>\n",
       "      <td>2.67</td>\n",
       "      <td>18.6</td>\n",
       "      <td>101</td>\n",
       "      <td>2.80</td>\n",
       "      <td>3.24</td>\n",
       "      <td>0.30</td>\n",
       "      <td>2.81</td>\n",
       "      <td>5.68</td>\n",
       "      <td>1.03</td>\n",
       "      <td>3.17</td>\n",
       "      <td>1185</td>\n",
       "    </tr>\n",
       "    <tr>\n",
       "      <th>3</th>\n",
       "      <td>1</td>\n",
       "      <td>14.37</td>\n",
       "      <td>1.95</td>\n",
       "      <td>2.50</td>\n",
       "      <td>16.8</td>\n",
       "      <td>113</td>\n",
       "      <td>3.85</td>\n",
       "      <td>3.49</td>\n",
       "      <td>0.24</td>\n",
       "      <td>2.18</td>\n",
       "      <td>7.80</td>\n",
       "      <td>0.86</td>\n",
       "      <td>3.45</td>\n",
       "      <td>1480</td>\n",
       "    </tr>\n",
       "    <tr>\n",
       "      <th>4</th>\n",
       "      <td>1</td>\n",
       "      <td>13.24</td>\n",
       "      <td>2.59</td>\n",
       "      <td>2.87</td>\n",
       "      <td>21.0</td>\n",
       "      <td>118</td>\n",
       "      <td>2.80</td>\n",
       "      <td>2.69</td>\n",
       "      <td>0.39</td>\n",
       "      <td>1.82</td>\n",
       "      <td>4.32</td>\n",
       "      <td>1.04</td>\n",
       "      <td>2.93</td>\n",
       "      <td>735</td>\n",
       "    </tr>\n",
       "  </tbody>\n",
       "</table>\n",
       "</div>"
      ],
      "text/plain": [
       "   0      1     2     3     4    5     6     7     8     9     10    11    12  \\\n",
       "0   1  14.23  1.71  2.43  15.6  127  2.80  3.06  0.28  2.29  5.64  1.04  3.92   \n",
       "1   1  13.20  1.78  2.14  11.2  100  2.65  2.76  0.26  1.28  4.38  1.05  3.40   \n",
       "2   1  13.16  2.36  2.67  18.6  101  2.80  3.24  0.30  2.81  5.68  1.03  3.17   \n",
       "3   1  14.37  1.95  2.50  16.8  113  3.85  3.49  0.24  2.18  7.80  0.86  3.45   \n",
       "4   1  13.24  2.59  2.87  21.0  118  2.80  2.69  0.39  1.82  4.32  1.04  2.93   \n",
       "\n",
       "     13  \n",
       "0  1065  \n",
       "1  1050  \n",
       "2  1185  \n",
       "3  1480  \n",
       "4   735  "
      ]
     },
     "execution_count": null,
     "metadata": {},
     "output_type": "execute_result"
    }
   ],
   "source": [
    "df.head()"
   ]
  },
  {
   "cell_type": "code",
   "execution_count": null,
   "id": "interesting-progress",
   "metadata": {},
   "outputs": [],
   "source": [
    "x = tf.convert_to_tensor(df.iloc[:,1:].values)\n",
    "y = tf.convert_to_tensor(df.iloc[:,0].values)"
   ]
  },
  {
   "cell_type": "code",
   "execution_count": null,
   "id": "alternative-history",
   "metadata": {},
   "outputs": [],
   "source": [
    "x_mean = tf.math.reduce_mean(x,axis=0)\n",
    "x_std = tf.math.reduce_std(x,axis=0)"
   ]
  },
  {
   "cell_type": "code",
   "execution_count": null,
   "id": "likely-daniel",
   "metadata": {},
   "outputs": [],
   "source": [
    "xn = (x-x_mean[None,]) / x_std[None,]"
   ]
  },
  {
   "cell_type": "code",
   "execution_count": null,
   "id": "according-score",
   "metadata": {},
   "outputs": [],
   "source": [
    "cov_mat = np.cov(xn.numpy().T)"
   ]
  },
  {
   "cell_type": "code",
   "execution_count": null,
   "id": "acquired-catholic",
   "metadata": {},
   "outputs": [],
   "source": [
    "eigen_vals, eigen_vecs = np.linalg.eig(cov_mat)"
   ]
  },
  {
   "cell_type": "code",
   "execution_count": null,
   "id": "entire-impossible",
   "metadata": {},
   "outputs": [
    {
     "data": {
      "text/plain": [
       "array([4.73243698, 2.51108093, 1.45424187, 0.92416587, 0.85804868,\n",
       "       0.64528221, 0.55414147, 0.10396199, 0.35046627, 0.16972374,\n",
       "       0.29051203, 0.22706428, 0.25232001])"
      ]
     },
     "execution_count": null,
     "metadata": {},
     "output_type": "execute_result"
    }
   ],
   "source": [
    "eigen_vals"
   ]
  },
  {
   "cell_type": "code",
   "execution_count": null,
   "id": "apparent-glance",
   "metadata": {},
   "outputs": [],
   "source": [
    "tot = sum(eigen_vals)\n",
    "var_exp = [(i/tot) for i in sorted(eigen_vals, reverse=True)]"
   ]
  },
  {
   "cell_type": "code",
   "execution_count": null,
   "id": "convenient-suite",
   "metadata": {},
   "outputs": [
    {
     "data": {
      "text/plain": [
       "array([0.36198848, 0.55406338, 0.66529969, 0.73598999, 0.80162293,\n",
       "       0.85098116, 0.89336795, 0.92017544, 0.94239698, 0.96169717,\n",
       "       0.97906553, 0.99204785, 1.        ])"
      ]
     },
     "execution_count": null,
     "metadata": {},
     "output_type": "execute_result"
    }
   ],
   "source": [
    "cum_var_exp = np.cumsum(var_exp)\n",
    "cum_var_exp"
   ]
  },
  {
   "cell_type": "code",
   "execution_count": null,
   "id": "interracial-bulgarian",
   "metadata": {},
   "outputs": [
    {
     "data": {
      "text/plain": [
       "<matplotlib.legend.Legend at 0x7f09407935e0>"
      ]
     },
     "execution_count": null,
     "metadata": {},
     "output_type": "execute_result"
    },
    {
     "data": {
      "image/png": "[encoded data removed]",
      "text/plain": [
       "<Figure size 432x288 with 1 Axes>"
      ]
     },
     "metadata": {
      "needs_background": "light"
     },
     "output_type": "display_data"
    }
   ],
   "source": [
    "plt.bar(range(1,14), var_exp, alpha=.5, label='individual explained variance')\n",
    "plt.step(range(1,14), cum_var_exp, where='mid', label='cumulative explained variance')\n",
    "plt.ylabel('Explained variance ratio')\n",
    "plt.xlabel('Principal components')\n",
    "plt.legend(loc='best')"
   ]
  },
  {
   "cell_type": "code",
   "execution_count": null,
   "id": "reflected-carolina",
   "metadata": {},
   "outputs": [],
   "source": [
    "eigen_pairs = [(np.abs(eigen_vals[i]), eigen_vecs[:,i])\n",
    "               for i in range(len(eigen_vals))]"
   ]
  },
  {
   "cell_type": "code",
   "execution_count": null,
   "id": "intelligent-worst",
   "metadata": {},
   "outputs": [],
   "source": [
    "eigen_pairs.sort(key=lambda x: x[0], reverse=True)"
   ]
  },
  {
   "cell_type": "code",
   "execution_count": null,
   "id": "pending-music",
   "metadata": {},
   "outputs": [],
   "source": [
    "w = np.hstack((eigen_pairs[0][1]))"
   ]
  },
  {
   "cell_type": "code",
   "execution_count": null,
   "id": "amateur-bahrain",
   "metadata": {},
   "outputs": [
    {
     "data": {
      "text/plain": [
       "(array([-0.1443294 ,  0.24518758,  0.00205106,  0.23932041, -0.14199204,\n",
       "        -0.39466085, -0.4229343 ,  0.2985331 , -0.31342949,  0.0886167 ,\n",
       "        -0.29671456, -0.37616741, -0.28675223]),\n",
       " array([ 0.48365155,  0.22493093,  0.31606881, -0.0105905 ,  0.299634  ,\n",
       "         0.06503951, -0.00335981,  0.02877949,  0.03930172,  0.52999567,\n",
       "        -0.27923515, -0.16449619,  0.36490283]))"
      ]
     },
     "execution_count": null,
     "metadata": {},
     "output_type": "execute_result"
    }
   ],
   "source": [
    "eigen_pairs[0][1], eigen_pairs[1][1]"
   ]
  },
  {
   "cell_type": "code",
   "execution_count": null,
   "id": "miniature-superintendent",
   "metadata": {},
   "outputs": [],
   "source": [
    "w = np.stack([eigen_pairs[0][1], eigen_pairs[1][1]], axis=1)"
   ]
  },
  {
   "cell_type": "code",
   "execution_count": null,
   "id": "linear-grace",
   "metadata": {},
   "outputs": [
    {
     "data": {
      "text/plain": [
       "array([-3.31675081,  1.44346263])"
      ]
     },
     "execution_count": null,
     "metadata": {},
     "output_type": "execute_result"
    }
   ],
   "source": [
    "xn[0].numpy().dot(w)"
   ]
  },
  {
   "cell_type": "code",
   "execution_count": null,
   "id": "canadian-balance",
   "metadata": {},
   "outputs": [],
   "source": [
    "xpca = xn.numpy().dot(w)"
   ]
  },
  {
   "cell_type": "code",
   "execution_count": null,
   "id": "artistic-addition",
   "metadata": {},
   "outputs": [
    {
     "data": {
      "text/plain": [
       "<matplotlib.legend.Legend at 0x7f09428077f0>"
      ]
     },
     "execution_count": null,
     "metadata": {},
     "output_type": "execute_result"
    },
    {
     "data": {
      "image/png": "[encoded data removed]",
      "text/plain": [
       "<Figure size 432x288 with 1 Axes>"
      ]
     },
     "metadata": {
      "needs_background": "light"
     },
     "output_type": "display_data"
    }
   ],
   "source": [
    "colors = ['r', 'g', 'b']\n",
    "markers = ['s', 'x', 'o']\n",
    "for l,c,m in zip(np.unique(y.numpy()), colors, markers):\n",
    "    plt.scatter(xpca[y.numpy()==l, 0],\n",
    "                xpca[y.numpy()==l, 1],\n",
    "                c=c, label=l, marker=m)\n",
    "plt.xlabel(\"PC 1\")\n",
    "plt.ylabel(\"PC 2\")\n",
    "plt.legend(loc='lower left')"
   ]
  },
  {
   "cell_type": "code",
   "execution_count": null,
   "id": "republican-redhead",
   "metadata": {},
   "outputs": [],
   "source": [
    "#export\n",
    "def _pca(x, k=2):\n",
    "    x = x-tf.math.reduce_mean(x,axis=0)\n",
    "    S,U,V = tf.linalg.svd(tf.transpose(x))\n",
    "    return tf.matmul(x,U[:,:k])"
   ]
  },
  {
   "cell_type": "code",
   "execution_count": null,
   "id": "united-location",
   "metadata": {},
   "outputs": [],
   "source": [
    "xsvd = _pca(xn).numpy()*(-1)"
   ]
  },
  {
   "cell_type": "code",
   "execution_count": null,
   "id": "demanding-initial",
   "metadata": {},
   "outputs": [
    {
     "data": {
      "text/plain": [
       "<matplotlib.legend.Legend at 0x7f091446b1f0>"
      ]
     },
     "execution_count": null,
     "metadata": {},
     "output_type": "execute_result"
    },
    {
     "data": {
      "image/png": "[encoded data removed]",
      "text/plain": [
       "<Figure size 432x288 with 1 Axes>"
      ]
     },
     "metadata": {
      "needs_background": "light"
     },
     "output_type": "display_data"
    }
   ],
   "source": [
    "colors = ['r', 'g', 'b']\n",
    "markers = ['s', 'x', 'o']\n",
    "for l,c,m in zip(np.unique(y.numpy()), colors, markers):\n",
    "    plt.scatter(xsvd[y.numpy()==l, 0],\n",
    "                xsvd[y.numpy()==l, 1],\n",
    "                c=c, label=l, marker=m)\n",
    "plt.xlabel(\"PC 1\")\n",
    "plt.ylabel(\"PC 2\")\n",
    "plt.legend(loc='lower left')"
   ]
  },
  {
   "cell_type": "code",
   "execution_count": null,
   "id": "chubby-tribe",
   "metadata": {},
   "outputs": [],
   "source": [
    "test_close((xpca-xsvd).mean(),0)"
   ]
  },
  {
   "cell_type": "code",
   "execution_count": null,
   "id": "federal-feeling",
   "metadata": {},
   "outputs": [],
   "source": []
  }
 ],
 "metadata": {
  "kernelspec": {
   "display_name": "Python 3",
   "language": "python",
   "name": "python3"
  }
 },
 "nbformat": 4,
 "nbformat_minor": 5
}
