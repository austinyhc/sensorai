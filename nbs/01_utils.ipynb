{
 "cells": [
  {
   "cell_type": "code",
   "execution_count": null,
   "id": "satellite-christopher",
   "metadata": {},
   "outputs": [],
   "source": [
    "# default_exp utils"
   ]
  },
  {
   "cell_type": "code",
   "execution_count": null,
   "id": "occupational-quick",
   "metadata": {},
   "outputs": [],
   "source": [
    "#hide\n",
    "import sys\n",
    "sys.path.append(\"/home/austin/workspace/sensorai\")"
   ]
  },
  {
   "cell_type": "code",
   "execution_count": null,
   "id": "excellent-powder",
   "metadata": {},
   "outputs": [],
   "source": [
    "#export\n",
    "from sensorai.imports import *\n",
    "from sensorai.tf_imports import *"
   ]
  },
  {
   "cell_type": "code",
   "execution_count": null,
   "id": "hazardous-title",
   "metadata": {},
   "outputs": [],
   "source": [
    "#hide\n",
    "from nbdev.showdoc import *"
   ]
  },
  {
   "cell_type": "markdown",
   "id": "recorded-dividend",
   "metadata": {},
   "source": [
    "# Utility Belts\n",
    "> Contain some common helper functions"
   ]
  },
  {
   "cell_type": "markdown",
   "id": "governing-liberty",
   "metadata": {},
   "source": [
    "## 1% Better Everyday"
   ]
  },
  {
   "cell_type": "markdown",
   "id": "affecting-archive",
   "metadata": {},
   "source": [
    "# Math "
   ]
  },
  {
   "cell_type": "code",
   "execution_count": null,
   "id": "greater-lease",
   "metadata": {},
   "outputs": [],
   "source": [
    "#export\n",
    "def moving_average(x, window=5):\n",
    "    \"\"\"\n",
    "    Return a moving-window average.\n",
    "    :param x: a numpy array\n",
    "    :param window: an integer, number of data points for window size.\n",
    "    \"\"\"\n",
    "    return (pd.DataFrame(x)\n",
    "                .rolling(window=window, min_periods=1)\n",
    "                .mean()\n",
    "                .values\n",
    "                .squeeze())"
   ]
  },
  {
   "cell_type": "code",
   "execution_count": null,
   "id": "uniform-daniel",
   "metadata": {},
   "outputs": [],
   "source": [
    "x = np.arange(10)\n",
    "test_eq(moving_average(x), [0.,0.5,1.,1.5,2.,3.,4.,5.,6.,7.])\n",
    "test_eq(moving_average(x,4), [0.,0.5,1.,1.5,2.5,3.5,4.5,5.5,6.5,7.5])"
   ]
  },
  {
   "cell_type": "code",
   "execution_count": null,
   "id": "institutional-equilibrium",
   "metadata": {},
   "outputs": [],
   "source": []
  }
 ],
 "metadata": {
  "kernelspec": {
   "display_name": "Python 3",
   "language": "python",
   "name": "python3"
  }
 },
 "nbformat": 4,
 "nbformat_minor": 5
}
