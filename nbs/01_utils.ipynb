{
 "cells": [
  {
   "cell_type": "code",
   "execution_count": null,
   "id": "skilled-lawrence",
   "metadata": {},
   "outputs": [],
   "source": [
    "# default_exp utils"
   ]
  },
  {
   "cell_type": "code",
   "execution_count": null,
   "id": "military-portrait",
   "metadata": {},
   "outputs": [],
   "source": [
    "#export\n",
    "from sensorai.imports import *\n",
    "from sensorai.tf_imports import *"
   ]
  },
  {
   "cell_type": "code",
   "execution_count": null,
   "id": "qualified-ethnic",
   "metadata": {},
   "outputs": [],
   "source": [
    "#hide\n",
    "from nbdev.showdoc import *"
   ]
  },
  {
   "cell_type": "markdown",
   "id": "insured-throat",
   "metadata": {},
   "source": [
    "# Utility Belts\n",
    "> Contain some common helper functions"
   ]
  },
  {
   "cell_type": "markdown",
   "id": "smoking-contributor",
   "metadata": {},
   "source": [
    "## 1% Better Everyday"
   ]
  },
  {
   "cell_type": "markdown",
   "id": "humanitarian-canal",
   "metadata": {},
   "source": [
    "# Math "
   ]
  },
  {
   "cell_type": "code",
   "execution_count": null,
   "id": "little-cleaners",
   "metadata": {},
   "outputs": [],
   "source": [
    "#export\n",
    "def moving_average(x, window=5):\n",
    "    \"\"\"\n",
    "    Return a moving-window average.\n",
    "    :param x: a numpy array\n",
    "    :param window: an integer, number of data points for window size.\n",
    "    \"\"\"\n",
    "    return (pd.DataFrame(x)\n",
    "                .rolling(window=window, min_periods=1)\n",
    "                .mean()\n",
    "                .values\n",
    "                .squeeze())"
   ]
  },
  {
   "cell_type": "code",
   "execution_count": null,
   "id": "capital-buddy",
   "metadata": {},
   "outputs": [],
   "source": [
    "x = np.arange(10)\n",
    "test_eq(moving_average(x), [0.,0.5,1.,1.5,2.,3.,4.,5.,6.,7.])\n",
    "test_eq(moving_average(x,4), [0.,0.5,1.,1.5,2.5,3.5,4.5,5.5,6.5,7.5])"
   ]
  },
  {
   "cell_type": "code",
   "execution_count": null,
   "id": "medieval-vacation",
   "metadata": {},
   "outputs": [],
   "source": []
  }
 ],
 "metadata": {
  "kernelspec": {
   "display_name": "Python 3",
   "language": "python",
   "name": "python3"
  }
 },
 "nbformat": 4,
 "nbformat_minor": 5
}
