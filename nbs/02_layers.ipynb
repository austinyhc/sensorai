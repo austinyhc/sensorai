{
 "cells": [
  {
   "cell_type": "code",
   "execution_count": null,
   "id": "rational-behavior",
   "metadata": {},
   "outputs": [],
   "source": [
    "# default_exp layers"
   ]
  },
  {
   "cell_type": "code",
   "execution_count": null,
   "id": "ideal-raise",
   "metadata": {},
   "outputs": [],
   "source": [
    "#export\n",
    "from sensorai.imports import *\n",
    "from sensorai.tf_imports import *"
   ]
  },
  {
   "cell_type": "code",
   "execution_count": null,
   "id": "ranging-civilian",
   "metadata": {},
   "outputs": [],
   "source": [
    "#hide\n",
    "from nbdev.showdoc import *"
   ]
  },
  {
   "cell_type": "markdown",
   "id": "cultural-stack",
   "metadata": {},
   "source": [
    "# Layers\n",
    "> Custom sensorai layers"
   ]
  },
  {
   "cell_type": "markdown",
   "id": "ethical-mathematics",
   "metadata": {},
   "source": [
    "## 1% Better Everyday\n",
    "- [ ] [Effective TensorFlow 2 | Use tf.config.experimental_run_functions_eagerly() when debugging](https://www.tensorflow.org/guide/effective_tf2#use_tfconfigexperimental_run_functions_eagerly_when_debugging)"
   ]
  },
  {
   "cell_type": "markdown",
   "id": "varied-winner",
   "metadata": {},
   "source": [
    "## Pooling layers"
   ]
  },
  {
   "cell_type": "code",
   "execution_count": null,
   "id": "competitive-spare",
   "metadata": {},
   "outputs": [],
   "source": [
    "#export\n",
    "class AdaptiveConcatPool1d(keras.layers.Layer):\n",
    "    def __init__(self, size=None):\n",
    "        super(AdaptiveConcatPool1d,self).__init__()\n",
    "        self.size = size or 1\n",
    "        self.ap = tfa.layers.AdaptiveAveragePooling1D(self.size)\n",
    "        self.mp = tfa.layers.AdaptiveMaxPooling1D(self.size)\n",
    "        \n",
    "    def call(self, x):\n",
    "        return tf.concat([self.mp(x), self.ap(x)], -1)"
   ]
  },
  {
   "cell_type": "code",
   "execution_count": null,
   "id": "breathing-bulletin",
   "metadata": {},
   "outputs": [],
   "source": [
    "#export\n",
    "class AdaptiveConcatPool2d(keras.layers.Layer):\n",
    "    def __init__(self, size=None):\n",
    "        super(AdaptiveConcatPool2d,self).__init__()\n",
    "        self.size = size or 1\n",
    "        self.ap = tfa.layers.AdaptiveAveragePooling2D(self.size)\n",
    "        self.mp = tfa.layers.AdaptiveMaxPooling2D(self.size)\n",
    "        \n",
    "    def call(self, x):\n",
    "        return tf.concat([self.mp(x), self.ap(x)], -1)"
   ]
  },
  {
   "cell_type": "markdown",
   "id": "alien-supervision",
   "metadata": {},
   "source": [
    "If the input is (**BS** x **W** x **H** x **CH**), the output will be (**BS** x **1** x **1** x **2*CH**) if no size is passed or (**BS** x *size* x *size* x **2*CH**)"
   ]
  },
  {
   "cell_type": "code",
   "execution_count": null,
   "id": "plain-stationery",
   "metadata": {},
   "outputs": [],
   "source": [
    "test = AdaptiveConcatPool2d()\n",
    "x = tf.random.normal((10,4,4,5))\n",
    "test_eq(test(x).shape, [10,1,1,10])\n",
    "\n",
    "max1 = tf.reduce_max(x, axis=1, keepdims=True)\n",
    "maxp = tf.reduce_max(max1, axis=2, keepdims=True)\n",
    "test_eq(test(x)[...,:5], maxp)\n",
    "test_eq(test(x)[...,5:], tf.reduce_mean(x, axis=[1,2], keepdims=True))\n",
    "\n",
    "test = AdaptiveConcatPool2d(2)\n",
    "test_eq(test(x).shape, [10,2,2,10])"
   ]
  },
  {
   "cell_type": "code",
   "execution_count": null,
   "id": "joined-foster",
   "metadata": {},
   "outputs": [],
   "source": [
    "# export\n",
    "class PoolType: Avg,Max,Cat = 'Avg','Max','Cat'"
   ]
  },
  {
   "cell_type": "code",
   "execution_count": null,
   "id": "backed-paper",
   "metadata": {},
   "outputs": [],
   "source": [
    "#export\n",
    "def adaptive_pool(pool_type):\n",
    "    return (tfa.layers.AdaptiveAveragePooling2D if pool_type=='Avg' else\n",
    "            tfa.layers.AdaptiveMaxPooling2D     if pool_type=='Max' else\n",
    "            AdaptiveConcatPool2d)"
   ]
  },
  {
   "cell_type": "code",
   "execution_count": null,
   "id": "signed-ownership",
   "metadata": {},
   "outputs": [],
   "source": [
    "class PoolFlatten(keras.Sequential):\n",
    "    \"Combine `tfa.layers.AdaptiveAvgPool2d` and `tfk.layers.Flatten`.\"\n",
    "    def __init__(self, pool_type=PoolType.Avg):\n",
    "        super().__init__([adaptive_pool(pool_type)(1), keras.layers.Flatten()])"
   ]
  },
  {
   "cell_type": "code",
   "execution_count": null,
   "id": "opened-burning",
   "metadata": {},
   "outputs": [],
   "source": [
    "test = PoolFlatten()\n",
    "test_eq(test(x).shape, [10,5])\n",
    "test_eq(test(x), tf.reduce_mean(x,axis=[1,2]))\n",
    "\n",
    "test = PoolFlatten(PoolType.Cat)\n",
    "test_eq(test(x).shape, [10,10])"
   ]
  },
  {
   "cell_type": "markdown",
   "id": "arabic-celtic",
   "metadata": {},
   "source": [
    "## BatchNorm layers"
   ]
  },
  {
   "cell_type": "markdown",
   "id": "resistant-degree",
   "metadata": {},
   "source": [
    "## Off-the-shelf models"
   ]
  },
  {
   "cell_type": "code",
   "execution_count": null,
   "id": "concrete-michigan",
   "metadata": {},
   "outputs": [],
   "source": []
  }
 ],
 "metadata": {
  "kernelspec": {
   "display_name": "Python 3",
   "language": "python",
   "name": "python3"
  }
 },
 "nbformat": 4,
 "nbformat_minor": 5
}
