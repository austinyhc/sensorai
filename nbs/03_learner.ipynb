{
 "cells": [
  {
   "cell_type": "code",
   "execution_count": null,
   "id": "silent-inventory",
   "metadata": {},
   "outputs": [],
   "source": [
    "# default_exp learner"
   ]
  },
  {
   "cell_type": "code",
   "execution_count": null,
   "id": "senior-aluminum",
   "metadata": {},
   "outputs": [],
   "source": [
    "#hide\n",
    "import sys\n",
    "sys.path.append(\"/home/austin/workspace/sensorai\")"
   ]
  },
  {
   "cell_type": "code",
   "execution_count": null,
   "id": "latest-interface",
   "metadata": {},
   "outputs": [],
   "source": [
    "#export\n",
    "from sensorai.imports import *\n",
    "from sensorai.tf_imports import *"
   ]
  },
  {
   "cell_type": "markdown",
   "id": "behavioral-chambers",
   "metadata": {},
   "source": [
    "# Learner, Metrics, and Basic Callbacks\n",
    "> Basic class for handling training loop"
   ]
  },
  {
   "cell_type": "markdown",
   "id": "exterior-gnome",
   "metadata": {},
   "source": [
    "# Util function"
   ]
  },
  {
   "cell_type": "code",
   "execution_count": null,
   "id": "blind-lover",
   "metadata": {},
   "outputs": [],
   "source": [
    "def set_momentum(optimizer, mom_val):\n",
    "    \"\"\"\n",
    "    Helper to set momentum of Keras optimizers.\n",
    "    :param optimizer: Keras optimizer\n",
    "    :param mom_val: value of momentum.\n",
    "    \"\"\"\n",
    "    keys = dir(optimizer)\n",
    "    if \"momentum\" in keys:\n",
    "        K.set_value(optimizer.momentum, mom_val)\n",
    "    if \"rho\" in keys:\n",
    "        K.set_value(optimizer.rho, mom_val)\n",
    "    if \"beta_1\" in keys:\n",
    "        K.set_value(optimizer.beta_1, mom_val)"
   ]
  },
  {
   "cell_type": "code",
   "execution_count": null,
   "id": "liberal-republican",
   "metadata": {},
   "outputs": [],
   "source": [
    "def set_lr(optimizer, lr):\n",
    "    \"\"\"\n",
    "    Helper to set learning rate of Keras optimizers.\n",
    "    :param optimizer: Keras optimizer\n",
    "    :param lr: value of learning rate.\n",
    "    \"\"\"\n",
    "    K.set_value(optimizer.lr, lr)"
   ]
  },
  {
   "cell_type": "code",
   "execution_count": null,
   "id": "loaded-spyware",
   "metadata": {},
   "outputs": [],
   "source": []
  }
 ],
 "metadata": {
  "kernelspec": {
   "display_name": "Python 3",
   "language": "python",
   "name": "python3"
  }
 },
 "nbformat": 4,
 "nbformat_minor": 5
}
