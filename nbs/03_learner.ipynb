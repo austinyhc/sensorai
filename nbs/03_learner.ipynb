{
 "cells": [
  {
   "cell_type": "code",
   "execution_count": null,
   "id": "younger-arizona",
   "metadata": {},
   "outputs": [],
   "source": [
    "# default_exp learner"
   ]
  },
  {
   "cell_type": "code",
   "execution_count": null,
   "id": "appreciated-newcastle",
   "metadata": {},
   "outputs": [],
   "source": [
    "#export\n",
    "from sensorai.imports import *\n",
    "from sensorai.tf_imports import *"
   ]
  },
  {
   "cell_type": "markdown",
   "id": "southeast-testing",
   "metadata": {},
   "source": [
    "# Learner, Metrics, and Basic Callbacks\n",
    "> Basic class for handling training loop"
   ]
  },
  {
   "cell_type": "markdown",
   "id": "retired-bacteria",
   "metadata": {},
   "source": [
    "# Util function"
   ]
  },
  {
   "cell_type": "code",
   "execution_count": null,
   "id": "younger-thumb",
   "metadata": {},
   "outputs": [],
   "source": [
    "def set_momentum(optimizer, mom_val):\n",
    "    \"\"\"\n",
    "    Helper to set momentum of Keras optimizers.\n",
    "    :param optimizer: Keras optimizer\n",
    "    :param mom_val: value of momentum.\n",
    "    \"\"\"\n",
    "    keys = dir(optimizer)\n",
    "    if \"momentum\" in keys:\n",
    "        K.set_value(optimizer.momentum, mom_val)\n",
    "    if \"rho\" in keys:\n",
    "        K.set_value(optimizer.rho, mom_val)\n",
    "    if \"beta_1\" in keys:\n",
    "        K.set_value(optimizer.beta_1, mom_val)"
   ]
  },
  {
   "cell_type": "code",
   "execution_count": null,
   "id": "pretty-ceiling",
   "metadata": {},
   "outputs": [],
   "source": [
    "def set_lr(optimizer, lr):\n",
    "    \"\"\"\n",
    "    Helper to set learning rate of Keras optimizers.\n",
    "    :param optimizer: Keras optimizer\n",
    "    :param lr: value of learning rate.\n",
    "    \"\"\"\n",
    "    K.set_value(optimizer.lr, lr)"
   ]
  },
  {
   "cell_type": "code",
   "execution_count": null,
   "id": "advance-oriental",
   "metadata": {},
   "outputs": [],
   "source": []
  }
 ],
 "metadata": {
  "kernelspec": {
   "display_name": "Python 3",
   "language": "python",
   "name": "python3"
  }
 },
 "nbformat": 4,
 "nbformat_minor": 5
}
